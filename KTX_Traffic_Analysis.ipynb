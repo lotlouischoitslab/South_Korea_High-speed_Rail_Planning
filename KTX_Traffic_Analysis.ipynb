{
 "cells": [
  {
   "cell_type": "code",
   "execution_count": 14,
   "id": "8f096b7e",
   "metadata": {},
   "outputs": [],
   "source": [
    "import numpy as np\n",
    "import pandas as pd \n",
    "from datetime import datetime\n",
    "import matplotlib.pyplot as plt \n",
    "%matplotlib inline"
   ]
  },
  {
   "cell_type": "code",
   "execution_count": 15,
   "id": "6b0a5b88",
   "metadata": {
    "scrolled": false
   },
   "outputs": [
    {
     "data": {
      "text/html": [
       "<div>\n",
       "<style scoped>\n",
       "    .dataframe tbody tr th:only-of-type {\n",
       "        vertical-align: middle;\n",
       "    }\n",
       "\n",
       "    .dataframe tbody tr th {\n",
       "        vertical-align: top;\n",
       "    }\n",
       "\n",
       "    .dataframe thead th {\n",
       "        text-align: right;\n",
       "    }\n",
       "</style>\n",
       "<table border=\"1\" class=\"dataframe\">\n",
       "  <thead>\n",
       "    <tr style=\"text-align: right;\">\n",
       "      <th></th>\n",
       "      <th>Train</th>\n",
       "      <th>Number</th>\n",
       "      <th>Departure Time</th>\n",
       "      <th>Arrival Time</th>\n",
       "      <th>Travel Time (Hours)</th>\n",
       "      <th>Stops</th>\n",
       "      <th>Cost (Korean Won)</th>\n",
       "      <th>Cost (US Dollars)</th>\n",
       "      <th>Additional Information</th>\n",
       "    </tr>\n",
       "  </thead>\n",
       "  <tbody>\n",
       "    <tr>\n",
       "      <th>0</th>\n",
       "      <td>KTX</td>\n",
       "      <td>1</td>\n",
       "      <td>05:13:00</td>\n",
       "      <td>07:49:00</td>\n",
       "      <td>02:36:00</td>\n",
       "      <td>Gwangmyeong, Daejeon, Dongdaegu, Gyeongju, Uls...</td>\n",
       "      <td>59800</td>\n",
       "      <td>44.252</td>\n",
       "      <td>HSR ONLY</td>\n",
       "    </tr>\n",
       "    <tr>\n",
       "      <th>1</th>\n",
       "      <td>KTX</td>\n",
       "      <td>3</td>\n",
       "      <td>05:28:00</td>\n",
       "      <td>08:15:00</td>\n",
       "      <td>02:47:00</td>\n",
       "      <td>Gwangmyeong, Cheonan-Asan, Daejeon, Gimcheon-G...</td>\n",
       "      <td>59800</td>\n",
       "      <td>44.252</td>\n",
       "      <td>HSR ONLY</td>\n",
       "    </tr>\n",
       "    <tr>\n",
       "      <th>2</th>\n",
       "      <td>KTX</td>\n",
       "      <td>5</td>\n",
       "      <td>05:58:00</td>\n",
       "      <td>08:42:00</td>\n",
       "      <td>02:44:00</td>\n",
       "      <td>Gwangmyeong, Cheonan-Asan, Daejeon, Seodaegu, ...</td>\n",
       "      <td>59400</td>\n",
       "      <td>43.956</td>\n",
       "      <td>Seodaegu</td>\n",
       "    </tr>\n",
       "    <tr>\n",
       "      <th>3</th>\n",
       "      <td>KTX-Sancheon</td>\n",
       "      <td>75</td>\n",
       "      <td>06:03:00</td>\n",
       "      <td>08:48:00</td>\n",
       "      <td>02:45:00</td>\n",
       "      <td>Gwangmyeong, Cheonan-Asan, Osong, Daejeon, Gim...</td>\n",
       "      <td>59800</td>\n",
       "      <td>44.252</td>\n",
       "      <td>HSR ONLY</td>\n",
       "    </tr>\n",
       "    <tr>\n",
       "      <th>4</th>\n",
       "      <td>KTX</td>\n",
       "      <td>7</td>\n",
       "      <td>06:33:00</td>\n",
       "      <td>09:21:00</td>\n",
       "      <td>02:48:00</td>\n",
       "      <td>Gwangmyeong, Osong, Daejeon, Gimcheon-Gumi, Do...</td>\n",
       "      <td>59800</td>\n",
       "      <td>44.252</td>\n",
       "      <td>HSR ONLY</td>\n",
       "    </tr>\n",
       "  </tbody>\n",
       "</table>\n",
       "</div>"
      ],
      "text/plain": [
       "          Train  Number Departure Time Arrival Time Travel Time (Hours)  \\\n",
       "0           KTX       1       05:13:00     07:49:00            02:36:00   \n",
       "1           KTX       3       05:28:00     08:15:00            02:47:00   \n",
       "2           KTX       5       05:58:00     08:42:00            02:44:00   \n",
       "3  KTX-Sancheon      75       06:03:00     08:48:00            02:45:00   \n",
       "4           KTX       7       06:33:00     09:21:00            02:48:00   \n",
       "\n",
       "                                               Stops  Cost (Korean Won)  \\\n",
       "0  Gwangmyeong, Daejeon, Dongdaegu, Gyeongju, Uls...              59800   \n",
       "1  Gwangmyeong, Cheonan-Asan, Daejeon, Gimcheon-G...              59800   \n",
       "2  Gwangmyeong, Cheonan-Asan, Daejeon, Seodaegu, ...              59400   \n",
       "3  Gwangmyeong, Cheonan-Asan, Osong, Daejeon, Gim...              59800   \n",
       "4  Gwangmyeong, Osong, Daejeon, Gimcheon-Gumi, Do...              59800   \n",
       "\n",
       "   Cost (US Dollars) Additional Information  \n",
       "0             44.252               HSR ONLY  \n",
       "1             44.252               HSR ONLY  \n",
       "2             43.956               Seodaegu  \n",
       "3             44.252               HSR ONLY  \n",
       "4             44.252               HSR ONLY  "
      ]
     },
     "execution_count": 15,
     "metadata": {},
     "output_type": "execute_result"
    }
   ],
   "source": [
    "gyeongbu_data = pd.read_excel('datasets/Gyeongbu_HSR.xlsx')\n",
    "gyeongbu_data.head()"
   ]
  },
  {
   "cell_type": "code",
   "execution_count": 26,
   "id": "6e3568c2",
   "metadata": {},
   "outputs": [
    {
     "data": {
      "text/html": [
       "<div>\n",
       "<style scoped>\n",
       "    .dataframe tbody tr th:only-of-type {\n",
       "        vertical-align: middle;\n",
       "    }\n",
       "\n",
       "    .dataframe tbody tr th {\n",
       "        vertical-align: top;\n",
       "    }\n",
       "\n",
       "    .dataframe thead th {\n",
       "        text-align: right;\n",
       "    }\n",
       "</style>\n",
       "<table border=\"1\" class=\"dataframe\">\n",
       "  <thead>\n",
       "    <tr style=\"text-align: right;\">\n",
       "      <th></th>\n",
       "      <th>Station</th>\n",
       "      <th>Lateral Coordinates (yloc)</th>\n",
       "      <th>Longitudinal Coordinates (xloc)</th>\n",
       "      <th>Station Spacing (km)</th>\n",
       "      <th>Lines</th>\n",
       "      <th>Junction</th>\n",
       "      <th>Additional Information</th>\n",
       "    </tr>\n",
       "  </thead>\n",
       "  <tbody>\n",
       "    <tr>\n",
       "      <th>0</th>\n",
       "      <td>Seoul</td>\n",
       "      <td>37.554722</td>\n",
       "      <td>126.970833</td>\n",
       "      <td>0.0</td>\n",
       "      <td>Gyeongbu, Honam</td>\n",
       "      <td>NaN</td>\n",
       "      <td>NaN</td>\n",
       "    </tr>\n",
       "    <tr>\n",
       "      <th>1</th>\n",
       "      <td>Yongsan</td>\n",
       "      <td>37.529788</td>\n",
       "      <td>126.964660</td>\n",
       "      <td>3.2</td>\n",
       "      <td>Honam</td>\n",
       "      <td>NaN</td>\n",
       "      <td>All Gyeongbu PASS</td>\n",
       "    </tr>\n",
       "    <tr>\n",
       "      <th>2</th>\n",
       "      <td>Gwangmyeong</td>\n",
       "      <td>37.416051</td>\n",
       "      <td>126.884686</td>\n",
       "      <td>22.0</td>\n",
       "      <td>Gyeongbu, Honam</td>\n",
       "      <td>NaN</td>\n",
       "      <td>NaN</td>\n",
       "    </tr>\n",
       "    <tr>\n",
       "      <th>3</th>\n",
       "      <td>Cheonan-Asan</td>\n",
       "      <td>36.785750</td>\n",
       "      <td>127.102833</td>\n",
       "      <td>74.0</td>\n",
       "      <td>Gyeongbu, Honam</td>\n",
       "      <td>NaN</td>\n",
       "      <td>NaN</td>\n",
       "    </tr>\n",
       "    <tr>\n",
       "      <th>4</th>\n",
       "      <td>Osong</td>\n",
       "      <td>36.627072</td>\n",
       "      <td>127.327287</td>\n",
       "      <td>28.7</td>\n",
       "      <td>Gyeongbu, Honam</td>\n",
       "      <td>Gyeongbu, Honam</td>\n",
       "      <td>NaN</td>\n",
       "    </tr>\n",
       "  </tbody>\n",
       "</table>\n",
       "</div>"
      ],
      "text/plain": [
       "        Station  Lateral Coordinates (yloc)  Longitudinal Coordinates (xloc)  \\\n",
       "0         Seoul                   37.554722                       126.970833   \n",
       "1       Yongsan                   37.529788                       126.964660   \n",
       "2   Gwangmyeong                   37.416051                       126.884686   \n",
       "3  Cheonan-Asan                   36.785750                       127.102833   \n",
       "4         Osong                   36.627072                       127.327287   \n",
       "\n",
       "   Station Spacing (km)            Lines         Junction  \\\n",
       "0                   0.0  Gyeongbu, Honam              NaN   \n",
       "1                   3.2            Honam              NaN   \n",
       "2                  22.0  Gyeongbu, Honam              NaN   \n",
       "3                  74.0  Gyeongbu, Honam              NaN   \n",
       "4                  28.7  Gyeongbu, Honam  Gyeongbu, Honam   \n",
       "\n",
       "  Additional Information  \n",
       "0                    NaN  \n",
       "1      All Gyeongbu PASS  \n",
       "2                    NaN  \n",
       "3                    NaN  \n",
       "4                    NaN  "
      ]
     },
     "execution_count": 26,
     "metadata": {},
     "output_type": "execute_result"
    }
   ],
   "source": [
    "hsr_data = pd.read_excel('datasets/HSR_locations.xlsx')\n",
    "hsr_data.head()"
   ]
  },
  {
   "cell_type": "code",
   "execution_count": 16,
   "id": "00fc854f",
   "metadata": {},
   "outputs": [],
   "source": [
    "def convert_to_hours(time_obj):\n",
    "    # Extract hours and minutes\n",
    "    hours = time_obj.hour\n",
    "    minutes = time_obj.minute\n",
    "    # Convert to total hours\n",
    "    total_hours = hours + minutes / 60.0\n",
    "    return round(total_hours,2)"
   ]
  },
  {
   "cell_type": "code",
   "execution_count": 17,
   "id": "d99d0234",
   "metadata": {},
   "outputs": [],
   "source": [
    "# Apply the conversion function to the 'Travel Time' column and create a new column for hours\n",
    "gyeongbu_data['Travel Time (Hours)'] = gyeongbu_data['Travel Time (Hours)'].apply(convert_to_hours)"
   ]
  },
  {
   "cell_type": "code",
   "execution_count": 19,
   "id": "cd0c5191",
   "metadata": {},
   "outputs": [
    {
     "data": {
      "text/html": [
       "<div>\n",
       "<style scoped>\n",
       "    .dataframe tbody tr th:only-of-type {\n",
       "        vertical-align: middle;\n",
       "    }\n",
       "\n",
       "    .dataframe tbody tr th {\n",
       "        vertical-align: top;\n",
       "    }\n",
       "\n",
       "    .dataframe thead th {\n",
       "        text-align: right;\n",
       "    }\n",
       "</style>\n",
       "<table border=\"1\" class=\"dataframe\">\n",
       "  <thead>\n",
       "    <tr style=\"text-align: right;\">\n",
       "      <th></th>\n",
       "      <th>Train</th>\n",
       "      <th>Number</th>\n",
       "      <th>Departure Time</th>\n",
       "      <th>Arrival Time</th>\n",
       "      <th>Travel Time (Hours)</th>\n",
       "      <th>Stops</th>\n",
       "      <th>Cost (Korean Won)</th>\n",
       "      <th>Cost (US Dollars)</th>\n",
       "      <th>Additional Information</th>\n",
       "      <th>ID</th>\n",
       "    </tr>\n",
       "  </thead>\n",
       "  <tbody>\n",
       "    <tr>\n",
       "      <th>0</th>\n",
       "      <td>KTX</td>\n",
       "      <td>1</td>\n",
       "      <td>05:13:00</td>\n",
       "      <td>07:49:00</td>\n",
       "      <td>2.60</td>\n",
       "      <td>Gwangmyeong, Daejeon, Dongdaegu, Gyeongju, Uls...</td>\n",
       "      <td>59800</td>\n",
       "      <td>44.252</td>\n",
       "      <td>HSR ONLY</td>\n",
       "      <td>1</td>\n",
       "    </tr>\n",
       "    <tr>\n",
       "      <th>1</th>\n",
       "      <td>KTX</td>\n",
       "      <td>3</td>\n",
       "      <td>05:28:00</td>\n",
       "      <td>08:15:00</td>\n",
       "      <td>2.78</td>\n",
       "      <td>Gwangmyeong, Cheonan-Asan, Daejeon, Gimcheon-G...</td>\n",
       "      <td>59800</td>\n",
       "      <td>44.252</td>\n",
       "      <td>HSR ONLY</td>\n",
       "      <td>2</td>\n",
       "    </tr>\n",
       "    <tr>\n",
       "      <th>2</th>\n",
       "      <td>KTX</td>\n",
       "      <td>5</td>\n",
       "      <td>05:58:00</td>\n",
       "      <td>08:42:00</td>\n",
       "      <td>2.73</td>\n",
       "      <td>Gwangmyeong, Cheonan-Asan, Daejeon, Seodaegu, ...</td>\n",
       "      <td>59400</td>\n",
       "      <td>43.956</td>\n",
       "      <td>Seodaegu</td>\n",
       "      <td>3</td>\n",
       "    </tr>\n",
       "    <tr>\n",
       "      <th>3</th>\n",
       "      <td>KTX-Sancheon</td>\n",
       "      <td>75</td>\n",
       "      <td>06:03:00</td>\n",
       "      <td>08:48:00</td>\n",
       "      <td>2.75</td>\n",
       "      <td>Gwangmyeong, Cheonan-Asan, Osong, Daejeon, Gim...</td>\n",
       "      <td>59800</td>\n",
       "      <td>44.252</td>\n",
       "      <td>HSR ONLY</td>\n",
       "      <td>4</td>\n",
       "    </tr>\n",
       "    <tr>\n",
       "      <th>4</th>\n",
       "      <td>KTX</td>\n",
       "      <td>7</td>\n",
       "      <td>06:33:00</td>\n",
       "      <td>09:21:00</td>\n",
       "      <td>2.80</td>\n",
       "      <td>Gwangmyeong, Osong, Daejeon, Gimcheon-Gumi, Do...</td>\n",
       "      <td>59800</td>\n",
       "      <td>44.252</td>\n",
       "      <td>HSR ONLY</td>\n",
       "      <td>5</td>\n",
       "    </tr>\n",
       "  </tbody>\n",
       "</table>\n",
       "</div>"
      ],
      "text/plain": [
       "          Train  Number Departure Time Arrival Time  Travel Time (Hours)  \\\n",
       "0           KTX       1       05:13:00     07:49:00                 2.60   \n",
       "1           KTX       3       05:28:00     08:15:00                 2.78   \n",
       "2           KTX       5       05:58:00     08:42:00                 2.73   \n",
       "3  KTX-Sancheon      75       06:03:00     08:48:00                 2.75   \n",
       "4           KTX       7       06:33:00     09:21:00                 2.80   \n",
       "\n",
       "                                               Stops  Cost (Korean Won)  \\\n",
       "0  Gwangmyeong, Daejeon, Dongdaegu, Gyeongju, Uls...              59800   \n",
       "1  Gwangmyeong, Cheonan-Asan, Daejeon, Gimcheon-G...              59800   \n",
       "2  Gwangmyeong, Cheonan-Asan, Daejeon, Seodaegu, ...              59400   \n",
       "3  Gwangmyeong, Cheonan-Asan, Osong, Daejeon, Gim...              59800   \n",
       "4  Gwangmyeong, Osong, Daejeon, Gimcheon-Gumi, Do...              59800   \n",
       "\n",
       "   Cost (US Dollars) Additional Information  ID  \n",
       "0             44.252               HSR ONLY   1  \n",
       "1             44.252               HSR ONLY   2  \n",
       "2             43.956               Seodaegu   3  \n",
       "3             44.252               HSR ONLY   4  \n",
       "4             44.252               HSR ONLY   5  "
      ]
     },
     "execution_count": 19,
     "metadata": {},
     "output_type": "execute_result"
    }
   ],
   "source": [
    "gyeongbu_data['ID'] = range(1, len(gyeongbu_data) + 1)\n",
    "gyeongbu_data.head()"
   ]
  },
  {
   "cell_type": "code",
   "execution_count": 20,
   "id": "f1ed3b66",
   "metadata": {
    "scrolled": true
   },
   "outputs": [
    {
     "name": "stdout",
     "output_type": "stream",
     "text": [
      "['Gwangmyeong', ' Daejeon', ' Dongdaegu', ' Gyeongju', ' Ulsan (Tongdosa)'] 5\n",
      "['Gwangmyeong', ' Cheonan-Asan', ' Daejeon', ' Gimcheon-Gumi', ' Dongdaegu', ' Gyeongju', ' Ulsan (Tongdosa)'] 7\n",
      "['Gwangmyeong', ' Cheonan-Asan', ' Daejeon', ' Seodaegu', ' Dongdaegu', ' Ulsan (Tongdosa)'] 6\n",
      "['Gwangmyeong', ' Cheonan-Asan', ' Osong', ' Daejeon', ' Gimcheon-Gumi', ' Dongdaegu', ' Ulsan (Tongdosa)'] 7\n",
      "['Gwangmyeong', ' Osong', ' Daejeon', ' Gimcheon-Gumi', ' Dongdaegu', ' Gyeongju', ' Ulsan (Tongdosa)'] 7\n",
      "['Gwangmyeong', ' Cheonan-Asan', ' Osong', ' Daejeon', ' Dongdaegu', ' Ulsan (Tongdosa)'] 6\n",
      "['Gwangmyeong', ' Osong', ' Daejeon', ' Dongdaegu'] 4\n",
      "['Gwangmyeong', ' Daejeon', ' Dongdaegu', ' Gyeongju', ' Ulsan (Tongdosa)'] 5\n",
      "['Gwangmyeong', ' Cheonan-Asan', ' Daejeon', ' Gimcheon-Gumi', ' Dongdaegu', ' Gyeongju', ' Ulsan (Tongdosa)'] 7\n",
      "['Yeongdeungpo', ' Suwon', ' Daejeon', ' Dongdaegu', ' Gyeongju', ' Ulsan (Tongdosa)'] 6\n",
      "['Gwangmyeong', ' Daejeon', ' Dongdaegu'] 3\n",
      "['Daejeon', ' Dongdaegu'] 2\n",
      "['Gwangmyeong', ' Osong', ' Daejeon', ' Gimcheon-Gumi', ' Dongdaegu', ' Gyeongju', ' Ulsan (Tongdosa)'] 7\n",
      "['Gwangmyeong', ' Cheonan-Asan', ' Osong', ' Daejeon', ' Seodaegu', ' Dongdaegu', ' Miryang', ' Mulgeum', ' Gupo'] 9\n",
      "['Gwangmyeong', ' Cheonan-Asan', ' Daejeon', ' Gimcheon-Gumi', ' Dongdaegu', ' Gyeongju', ' Ulsan (Tongdosa)'] 7\n",
      "['Yeongdeungpo', ' Suwon', ' Daejeon', ' Dongdaegu', ' Gyeongju', ' Ulsan (Tongdosa)'] 6\n",
      "['Cheonan-Asan', ' Osong', ' Daejeon', ' Gimcheon-Gumi', ' Dongdaegu'] 5\n",
      "['Gwangmyeong', ' Cheonan-Asan', ' Osong', ' Daejeon', ' Gimcheon-Gumi', ' Dongdaegu', ' Ulsan (Tongdosa)'] 7\n",
      "['Gwangmyeong', ' Cheonan-Asan', ' Daejeon', ' Dongdaegu', ' Gyeongju', ' Ulsan (Tongdosa)'] 6\n",
      "['Gwangmyeong', ' Cheonan-Asan', ' Daejeon', ' Dongdaegu', ' Gyeongju', ' Ulsan (Tongdosa)'] 6\n",
      "['Gwangmyeong', ' Cheonan-Asan', ' Daejeon', ' Gimcheon-Gumi', ' Dongdaegu', ' Ulsan (Tongdosa)'] 6\n",
      "['Gwangmyeong', ' Cheonan-Asan', ' Osong', ' Daejeon', ' Dongdaegu', ' Gyeongju'] 6\n",
      "['Gwangmyeong', ' Cheonan-Asan', ' Daejeon', ' Gimcheon-Gumi', ' Seodaegu', ' Dongdaegu', ' Miryang', ' Mulgeum', ' Gupo'] 9\n",
      "['Gwangmyeong', ' Cheonan-Asan', ' Osong', ' Daejeon', ' Dongdaegu', ' Ulsan (Tongdosa)'] 6\n",
      "['Gwangmyeong', ' Daejeon', ' Gimcheon-Gumi', ' Dongdaegu', ' Ulsan (Tongdosa)'] 5\n",
      "['Cheonan-Asan', ' Osong', ' Daejeon', ' Dongdaegu', ' Gyeongju'] 5\n",
      "['Gwangmyeong', ' Daejeon', ' Gimcheon-Gumi', ' Dongdaegu '] 4\n",
      "['Gwangmyeong', ' Osong', ' Daejeon', ' Dongdaegu'] 4\n",
      "['Gwangmyeong', ' Cheonan-Asan', ' Daejeon', ' Dongdaegu', ' Gyeongju', ' Ulsan (Tongdosa)'] 6\n",
      "['Gwangmyeong', ' Cheonan-Asan', ' Osong', ' Daejeon', ' Dongdaegu', ' Gyeongju'] 6\n",
      "['Gwangmyeong', ' Cheonan-Asan', ' Osong', ' Daejeon', ' Dongdaegu', ' Gyeongju', ' Ulsan (Tongdosa)'] 7\n",
      "['Yeongdeungpo', ' Suwon', ' Daejeon', ' Dongdaegu', ' Ulsan (Tongdosa)'] 5\n",
      "['Daejeon', ' Dongdaegu'] 2\n",
      "['Daejeon', ' Dongdaegu', ' Ulsan (Tongdosa)'] 3\n",
      "['Gwangmyeong', ' Daejeon', ' Gimcheon-Gumi', ' Seodaegu', ' Dongdaegu', ' Gyeongju'] 6\n",
      "['Yeongdeungpo', ' Suwon', ' Daejeon', ' Dongdaegu', ' Ulsan (Tongdosa)'] 5\n",
      "['Cheonan-Asan', ' Daejeon', ' Dongdaegu', ' Ulsan (Tongdosa)'] 4\n",
      "['Gwangmyeong', ' Osong', ' Daejeon', ' Gimcheon-Gumi', ' Dongdaegu', ' Gyeongju', ' Ulsan (Tongdosa)'] 7\n",
      "['Gwangmyeong', ' Daejeon', ' Dongdaegu', ' Gyeongsan', ' Miryang', ' Gupo'] 6\n",
      "['Gwangmyeong', ' Cheonan-Asan', ' Daejeon', ' Gimcheon-Gumi', ' Dongdaegu', ' Gyeongju', ' Ulsan (Tongdosa)'] 7\n",
      "['Cheonan-Asan', ' Daejeon', ' Gimcheon-Gumi', ' Dongdaegu', ' Ulsan (Tongdosa)'] 5\n",
      "['Gwangmyeong', ' Osong', ' Daejeon', ' Gimcheon-Gumi', ' Dongdaegu', ' Ulsan (Tongdosa)'] 6\n",
      "['Gwangmyeong', ' Cheonan-Asan', ' Osong', ' Daejeon', ' Dongdaegu', ' Gyeongju', ' Ulsan (Tongdosa)'] 7\n",
      "['Gwangmyeong', ' Cheonan-Asan', ' Osong', ' Daejeon', ' Gimcheon-Gumi', ' Seodaegu', ' Dongdaegu', ' Miryang', ' Mulgeum', ' Gupo'] 10\n",
      "['Yeongdeungpo', ' Suwon', ' Daejeon', ' Dongdaegu', ' Gyeongju'] 5\n",
      "['Gwangmyeong', ' Cheonan-Asan', ' Osong', ' Daejeon', ' Dongdaegu', ' Ulsan (Tongdosa)'] 6\n",
      "['Osong', ' Daejeon', ' Gimcheon-Gumi', ' Dongdaegu', ' Ulsan (Tongdosa)'] 5\n",
      "['Gwangmyeong', ' Cheonan-Asan', ' Daejeon', ' Dongdaegu', ' Gyeongju'] 5\n",
      "['Gwangmyeong', ' Cheonan-Asan', ' Osong', ' Daejeon', ' Dongdaegu', ' Ulsan (Tongdosa)'] 6\n",
      "['Gwangmyeong', ' Cheonan-Asan', ' Daejeon', ' Dongdaegu'] 4\n",
      "['Gwangmyeong', ' Cheonan-Asan', ' Daejeon', ' Dongdaegu'] 4\n",
      "['Daejeon', ' Seodaegu', ' Dongdaegu', ' Ulsan (Tongdosa)'] 4\n",
      "['Gwangmyeong', ' Cheonan-Asan', ' Daejeon', ' Seodaegu', ' Dongdaegu', ' Miryang', ' Mulgeum', ' Gupo'] 8\n",
      "['Gwangmyeong', ' Cheonan-Asan', ' Daejeon', ' Gimcheon-Gumi', ' Dongdaegu', ' Gyeongju', ' Ulsan (Tongdosa)'] 7\n",
      "['Gwangmyeong', ' Osong', ' Daejeon', ' Dongdaegu', ' Ulsan (Tongdosa)'] 5\n",
      "['Gwangmyeong', ' Cheonan-Asan', ' Daejeon', ' Seodaegu', ' Dongdaegu', ' Miryang', ' Gupo'] 7\n",
      "['Gwangmyeong', ' Cheonan-Asan', ' Daejeon', ' Seodaegu', ' Dongdaegu', ' Ulsan (Tongdosa)'] 6\n",
      "['Gwangmyeong', ' Cheonan-Asan', ' Daejeon', ' Dongdaegu', ' Ulsan (Tongdosa)'] 5\n"
     ]
    }
   ],
   "source": [
    "stop_numbers = 0\n",
    "for i in range(len(gyeongbu_data['Stops'])):\n",
    "    my_string = gyeongbu_data['Stops'][i]\n",
    "    my_list = my_string.split(\",\")\n",
    "    print(my_list, len(my_list))\n",
    "    stop_numbers += len(my_list)"
   ]
  },
  {
   "cell_type": "code",
   "execution_count": 21,
   "id": "590bc0ef",
   "metadata": {},
   "outputs": [
    {
     "data": {
      "text/plain": [
       "58"
      ]
     },
     "execution_count": 21,
     "metadata": {},
     "output_type": "execute_result"
    }
   ],
   "source": [
    "train_num = len(gyeongbu_data['Stops'])\n",
    "train_num"
   ]
  },
  {
   "cell_type": "code",
   "execution_count": 22,
   "id": "f058bdc9",
   "metadata": {},
   "outputs": [
    {
     "data": {
      "text/plain": [
       "6.0"
      ]
     },
     "execution_count": 22,
     "metadata": {},
     "output_type": "execute_result"
    }
   ],
   "source": [
    "average_stops = np.round(stop_numbers / train_num)\n",
    "average_stops"
   ]
  },
  {
   "cell_type": "markdown",
   "id": "04b58f12",
   "metadata": {},
   "source": [
    "$ q = \\frac{1}{\\overline{h}} $\n",
    "\n",
    "- q is traffic flow measured in vehicles per hour\n",
    "- $\\overline{h}$ is the average headway in hours"
   ]
  },
  {
   "cell_type": "code",
   "execution_count": 23,
   "id": "2877cf4f",
   "metadata": {},
   "outputs": [
    {
     "name": "stdout",
     "output_type": "stream",
     "text": [
      "next: 1900-01-01 05:28:00 current: 1900-01-01 05:13:00\n",
      "diff: 15.0\n",
      "next: 1900-01-01 05:58:00 current: 1900-01-01 05:28:00\n",
      "diff: 30.0\n",
      "next: 1900-01-01 06:03:00 current: 1900-01-01 05:58:00\n",
      "diff: 5.0\n",
      "next: 1900-01-01 06:33:00 current: 1900-01-01 06:03:00\n",
      "diff: 30.0\n",
      "next: 1900-01-01 06:57:00 current: 1900-01-01 06:33:00\n",
      "diff: 24.0\n",
      "next: 1900-01-01 07:28:00 current: 1900-01-01 06:57:00\n",
      "diff: 31.000000000000004\n",
      "next: 1900-01-01 07:50:00 current: 1900-01-01 07:28:00\n",
      "diff: 22.0\n",
      "next: 1900-01-01 07:58:00 current: 1900-01-01 07:50:00\n",
      "diff: 8.0\n",
      "Total time difference: 2.75 hours\n"
     ]
    }
   ],
   "source": [
    "# Convert 'Departure Time' and 'Arrival Time' to datetime objects\n",
    "gyeongbu_data['Departure Time'] = pd.to_datetime(gyeongbu_data['Departure Time'], format='%H:%M:%S')\n",
    "gyeongbu_data['Arrival Time'] = pd.to_datetime(gyeongbu_data['Arrival Time'], format='%H:%M:%S')\n",
    "\n",
    "# Calculate the time differences between stops\n",
    "time_diff = 0\n",
    "for i in range(len(gyeongbu_data['Departure Time'])-50):\n",
    "    dep_time = gyeongbu_data['Departure Time'].iloc[i]\n",
    "    next_dep_time = gyeongbu_data['Departure Time'].iloc[i+1]\n",
    "    print(f'next: {next_dep_time} current: {dep_time}')\n",
    "    diff = (next_dep_time - dep_time).total_seconds() / 3600  # Convert seconds to hours\n",
    "    print(f'diff: {diff*60}')\n",
    "    time_diff += diff\n",
    "\n",
    "print(f\"Total time difference: {time_diff} hours\")"
   ]
  },
  {
   "cell_type": "code",
   "execution_count": 24,
   "id": "055ec881",
   "metadata": {},
   "outputs": [
    {
     "name": "stdout",
     "output_type": "stream",
     "text": [
      "Average headway: 0.047 hours\n",
      "Average headway: 2.845 minutes\n"
     ]
    }
   ],
   "source": [
    "average_headway_hours = time_diff / train_num\n",
    "print(f'Average headway: {np.round(average_headway_hours,3)} hours')\n",
    "print(f'Average headway: {np.round(average_headway_hours*60,3)} minutes')"
   ]
  },
  {
   "cell_type": "code",
   "execution_count": 25,
   "id": "58010e23",
   "metadata": {},
   "outputs": [
    {
     "name": "stdout",
     "output_type": "stream",
     "text": [
      "Average Traffic Flow: 21.090909090909093 trains per hour\n"
     ]
    }
   ],
   "source": [
    "q_flow = 1/average_headway_hours\n",
    "print(f'Average Traffic Flow: {q_flow} trains per hour')"
   ]
  },
  {
   "cell_type": "code",
   "execution_count": 13,
   "id": "3a9225b8",
   "metadata": {},
   "outputs": [
    {
     "data": {
      "image/png": "[encoded data removed]",
      "text/plain": [
       "<Figure size 1000x600 with 1 Axes>"
      ]
     },
     "metadata": {},
     "output_type": "display_data"
    }
   ],
   "source": [
    "import matplotlib.pyplot as plt\n",
    "import numpy as np\n",
    "\n",
    "# Extract the stops for the first train\n",
    "stops = data.loc[0, 'Stops'].split(', ')\n",
    "stop_distances = [0, 15, 100, 200, 300, 398.2]  # Example distances in km for each stop\n",
    "total_distance = 398.2\n",
    "cruise_speed = 300  # km/h\n",
    "stop_time = 2 / 60  # hours per stop\n",
    "\n",
    "# Create time and distance lists\n",
    "time_points = [0]  # Start at time 0\n",
    "distance_points = [0]  # Start at Seoul (0 km)\n",
    "\n",
    "current_time = 0\n",
    "\n",
    "for i in range(1, len(stop_distances)):\n",
    "    # Calculate travel time to next stop\n",
    "    travel_time = (stop_distances[i] - stop_distances[i - 1]) / cruise_speed\n",
    "    current_time += travel_time\n",
    "    time_points.append(current_time)\n",
    "    distance_points.append(stop_distances[i])\n",
    "    \n",
    "    # Add stop time\n",
    "    current_time += stop_time\n",
    "    time_points.append(current_time)\n",
    "    distance_points.append(stop_distances[i])\n",
    "\n",
    "# Generate the plot\n",
    "plt.figure(figsize=(10, 6))\n",
    "plt.plot(time_points, distance_points, marker='o')\n",
    "plt.xlabel('Time (hours)')\n",
    "plt.ylabel('Distance from Seoul (km)')\n",
    "plt.title('Train Trajectory from Seoul to Busan')\n",
    "plt.grid(True)\n",
    "plt.show()\n"
   ]
  },
  {
   "cell_type": "code",
   "execution_count": null,
   "id": "73b0f398",
   "metadata": {},
   "outputs": [],
   "source": []
  }
 ],
 "metadata": {
  "kernelspec": {
   "display_name": "Python 3 (ipykernel)",
   "language": "python",
   "name": "python3"
  },
  "language_info": {
   "codemirror_mode": {
    "name": "ipython",
    "version": 3
   },
   "file_extension": ".py",
   "mimetype": "text/x-python",
   "name": "python",
   "nbconvert_exporter": "python",
   "pygments_lexer": "ipython3",
   "version": "3.9.18"
  }
 },
 "nbformat": 4,
 "nbformat_minor": 5
}
